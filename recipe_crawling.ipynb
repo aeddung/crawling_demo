{
 "cells": [
  {
   "cell_type": "code",
   "execution_count": 23,
   "metadata": {},
   "outputs": [],
   "source": [
    "import pandas as pd\n",
    "import numpy as np\n",
    "import matplotlib.pyplot as plt\n",
    "\n",
    "import urllib.request\n",
    "from bs4 import BeautifulSoup as bs\n",
    "import re\n",
    "import json, csv"
   ]
  },
  {
   "cell_type": "code",
   "execution_count": 47,
   "metadata": {},
   "outputs": [],
   "source": [
    "# 각 페이지에 여러 음식 조리법 리스트가 있기 때문에 url 리스트를 만들고, 이곳에 각 음식 조리법의 url을 추가한다.\n",
    "def url_func(n, m):\n",
    "    num_range = range(n, m)\n",
    "    url = \"https://www.10000recipe.com/profile/recipe.html?uid=gdubu33&page=\"\n",
    "    url_list = []\n",
    "    for num in num_range:\n",
    "        req = urllib.request.Request(url + str(num))\n",
    "        code = urllib.request.urlopen(req).read()\n",
    "        soup = bs(code, \"html.parser\")\n",
    "        \n",
    "        try:\n",
    "            res = soup.find(class_='cont_list st3') # 음식 조리법 url\n",
    "            for i in res.find_all('a'):\n",
    "                url_tmp = i.get('href')\n",
    "                url_list.append(url_tmp)\n",
    "        except(AttributeError):\n",
    "            pass\n",
    "        \n",
    "    return url_list"
   ]
  },
  {
   "cell_type": "code",
   "execution_count": 56,
   "metadata": {},
   "outputs": [],
   "source": [
    "url_lists = url_func(1, 160)"
   ]
  },
  {
   "cell_type": "code",
   "execution_count": 57,
   "metadata": {},
   "outputs": [
    {
     "data": {
      "text/plain": [
       "3180"
      ]
     },
     "execution_count": 57,
     "metadata": {},
     "output_type": "execute_result"
    }
   ],
   "source": [
    "# 약 3180개의 음식 조리법\n",
    "len(url_lists)"
   ]
  },
  {
   "cell_type": "code",
   "execution_count": 17,
   "metadata": {},
   "outputs": [
    {
     "name": "stdout",
     "output_type": "stream",
     "text": [
      "['오징어3마리', '돼지고기다짐육100g', '두부1/4모', '표고버섯3개', '홍고추1개', '청양고추1개', '대파10cm', '밀가루약간', '달걀1개', '다진마늘1/2숟가락', '간장1숟가락', '소금약간', '후추약간', '참기름1숟가락', '참깨1숟가락', '가리비8개', '다진청고추약간', '다진홍고추약간', '다진양파약간', '피자치즈100g', '초장2숟가락', '낙지6마리', '참깨1숟가락', '참기름1숟가락', '청주1숟가락', '다진마늘1/4숟가락', '다진생강약간', '데리야끼소스약간']\n"
     ]
    }
   ],
   "source": [
    "\"\"\"\n",
    "for url_str in url_lists[:1]:\n",
    "    ingre_1 = []\n",
    "    url = \"https://www.10000recipe.com\"\n",
    "    url = url + url_str\n",
    "    req = urllib.request.Request(url)\n",
    "    code = urllib.request.urlopen(url).read()\n",
    "    soup = bs(code, \"html.parser\")\n",
    "    \n",
    "    res = soup.find('div', 'cont_ingre2')\n",
    "    for i in res.find_all('a'):\n",
    "        ingredient_name = i.get_text().replace('\\n', '').replace(' ', '')\n",
    "        ingre_1.append(ingredient_name)\n",
    "print(ingre_1)\n",
    "\"\"\""
   ]
  },
  {
   "cell_type": "code",
   "execution_count": 54,
   "metadata": {},
   "outputs": [
    {
     "name": "stdout",
     "output_type": "stream",
     "text": [
      "                오늘 레시피는 눈 깜짝할 사이에 만들어지니까 주목!'스팀'에어프라이어로 만드는 홈포차 레시피 3종!스팀 기능이 추가된 에어프라이어는 겉바속촉 식감에더욱 건강한 요리를 만들 수 있어요.촉촉한 찜요리엔 스팀 모드,바삭한 튀김요리엔 에어프라이어 모드,겉바속촉 요리엔 스팀&프라이 모드!잘 모르겠다면? 재료별 원버튼만 누르면 끝~이 정도면 '만능'이란 말이 절로 떠오를 만하죠.@@오늘 홈술 홈쿡 준비물은 요거다!                6인분 이상 120분 이내 아무나\n"
     ]
    }
   ],
   "source": [
    "for url_str in url_lists[:1]:\n",
    "    ingre_1 = []\n",
    "    url = \"https://www.10000recipe.com\"\n",
    "    url = url + url_str\n",
    "    req = urllib.request.Request(url)\n",
    "    code = urllib.request.urlopen(url).read()\n",
    "    soup = bs(code, \"html.parser\")\n",
    "    \n",
    "    res = soup.find('div', 'view2_summary st3')\n",
    "    menu_summary = res.get_text().replace('\\n', '').strip()\n",
    "    \n",
    "print(menu_summary)"
   ]
  },
  {
   "cell_type": "code",
   "execution_count": 60,
   "metadata": {},
   "outputs": [],
   "source": [
    "name_list = []\n",
    "summary_list = []\n",
    "ingre_list1 = []\n",
    "ingre_list2 = []\n",
    "recipe_list = []\n",
    "\n",
    "# 160까지만 크롤링 -> 180까지 하면 오류 발생, 아마도 만개의 레시피 웹사이트 문제인 듯\n",
    "for url_str in url_lists[2000:3000]:\n",
    "    url = \"https://www.10000recipe.com\"\n",
    "    url = url + url_str\n",
    "    req = urllib.request.Request(url)\n",
    "    code = urllib.request.urlopen(req).read()\n",
    "    soup = bs(code, \"html.parser\")\n",
    "\n",
    "    ingre1_ = []\n",
    "    ingre2_ = []\n",
    "    recipe_ = []\n",
    "    \n",
    "    # 음식 메뉴 이름\n",
    "    res = soup.find('div', 'view2_summary')\n",
    "    res = res.find('h3')\n",
    "    menu_name = res.get_text()\n",
    "    \n",
    "    # 음식 메뉴 소개글(요약 버전)\n",
    "    res = soup.find('div', 'view2_summary st3')\n",
    "    menu_summary = res.get_text().replace('\\n', '').strip()\n",
    "    \n",
    "    # 음식 재료들\n",
    "    res = soup.find('div', 'cont_ingre2')\n",
    "    try:\n",
    "        for n in res.find_all('a'):\n",
    "            ingredient_name = n.get_text().replace('\\n', '').replace(' ', '') # 고추장 1스푼\n",
    "            ingredient_unit = ''.join([i for i in ingredient_name if not i.isdigit()]) # 고추장 1스푼 -> 고추장 스푼\n",
    "                \n",
    "            ingre1_.append(ingredient_name)\n",
    "            ingre2_.append(ingredient_unit) \n",
    "\n",
    "    except(AttributeError):\n",
    "        pass\n",
    "    \n",
    "    # 음식 조리법\n",
    "    res = soup.find('div', 'view_step')\n",
    "    for n in res.find_all('div', 'view_step_cont'):\n",
    "        recipe_step_txt = n.get_text().replace('\\n', '')\n",
    "        \n",
    "        recipe_.append(recipe_step_txt)\n",
    "\n",
    "    name_list.append(menu_name)\n",
    "    summary_list.append(menu_summary)\n",
    "    ingre_list1.append(ingre1_)\n",
    "    ingre_list2.append(ingre2_)\n",
    "    recipe_list.append(recipe_)\n",
    "\n",
    "csv_data = {\"name\": name_list,\n",
    "            \"summary\": summary_list,\n",
    "            \"ingre\": ingre_list1,\n",
    "            \"ingre_without_num\": ingre_list2,\n",
    "            \"recipe\": recipe_list}\n",
    "\n",
    "df = pd.DataFrame(csv_data)\n",
    "\n",
    "df.to_csv('./db_recipe3.csv', sep=',', na_rep='NaN', encoding='utf-8-sig') # na_rep: NaN 표시값을 바꿔줌 "
   ]
  },
  {
   "cell_type": "code",
   "execution_count": null,
   "metadata": {},
   "outputs": [],
   "source": []
  },
  {
   "cell_type": "code",
   "execution_count": null,
   "metadata": {},
   "outputs": [],
   "source": []
  },
  {
   "cell_type": "code",
   "execution_count": null,
   "metadata": {},
   "outputs": [],
   "source": []
  }
 ],
 "metadata": {
  "kernelspec": {
   "display_name": "Python 3",
   "language": "python",
   "name": "python3"
  },
  "language_info": {
   "codemirror_mode": {
    "name": "ipython",
    "version": 3
   },
   "file_extension": ".py",
   "mimetype": "text/x-python",
   "name": "python",
   "nbconvert_exporter": "python",
   "pygments_lexer": "ipython3",
   "version": "3.7.9"
  }
 },
 "nbformat": 4,
 "nbformat_minor": 4
}