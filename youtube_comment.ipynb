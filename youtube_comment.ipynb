{
 "cells": [
  {
   "cell_type": "code",
   "execution_count": 86,
   "metadata": {},
   "outputs": [],
   "source": [
    "from selenium import webdriver as wd \n",
    "from bs4 import BeautifulSoup \n",
    "import time \n",
    "driver = wd.Chrome(executable_path=\"../chromedriver.exe\") \n",
    "url = 'https://www.youtube.com/watch?v=ZuORLpbNza8&t=248s' \n",
    "driver.get(url) \n",
    "last_page_height = driver.execute_script(\"return document.documentElement.scrollHeight\") \n",
    "while True: \n",
    "    driver.execute_script(\"window.scrollTo(0, document.documentElement.scrollHeight);\") \n",
    "    time.sleep(3.0) \n",
    "    new_page_height = driver.execute_script(\"return document.documentElement.scrollHeight\") \n",
    "    if new_page_height == last_page_height: \n",
    "        break \n",
    "    last_page_height = new_page_height \n",
    "\n",
    "html_source = driver.page_source \n",
    "\n",
    "driver.close() \n",
    "\n",
    "soup = BeautifulSoup(html_source, 'lxml')"
   ]
  },
  {
   "cell_type": "code",
   "execution_count": 194,
   "metadata": {},
   "outputs": [],
   "source": [
    "youtube_user_IDs = soup.select('div#header-author > a > span') \n",
    "# css class, id, name 내부에 띄어쓰기가 있는 경우 마침표 .를 찍어준다.\n",
    "youtube_time = soup.select(\".published-time-text.above-comment.style-scope.ytd-comment-renderer\")\n",
    "youtube_comments = soup.select('yt-formatted-string#content-text')\n",
    "youtube_comment_likes = soup.select('span#vote-count-middle')"
   ]
  },
  {
   "cell_type": "code",
   "execution_count": 195,
   "metadata": {},
   "outputs": [],
   "source": [
    "import re\n",
    "\n",
    "str_youtube_userIDs = [] \n",
    "str_youtube_time = [] \n",
    "str_youtube_comments = [] \n",
    "str_youtube_comment_likes = []\n",
    "\n",
    "for i in range(len(youtube_user_IDs)): \n",
    "    str_tmp = str(youtube_user_IDs[i].text) \n",
    "    str_tmp = str_tmp.replace('\\n', '') \n",
    "    str_tmp = str_tmp.replace('\\t', '') \n",
    "    str_tmp = str_tmp.replace(' ','') \n",
    "    str_youtube_userIDs.append(str_tmp) \n",
    "    \n",
    "    str_tmp = str(youtube_time[i].text) \n",
    "    str_tmp = str_tmp.replace('\\n', '') \n",
    "    str_tmp = str_tmp.replace('\\t', '') \n",
    "    str_tmp = str_tmp.replace(' ', '') \n",
    "    str_youtube_time.append(str_tmp)\n",
    "    \n",
    "    str_tmp = str(youtube_comments[i].text) \n",
    "    str_tmp = str_tmp.replace('\\n', '') \n",
    "    str_tmp = str_tmp.replace('\\t', '')\n",
    "    pattern = re.compile('[^ ㄱ-ㅣ가-힣]+') # 한글 및 띄어쓰기에 해당되지 않는 부분(영어, 기호, 이모티콘 등)\n",
    "    str_tmp = pattern.sub('', str_tmp)\n",
    "\n",
    "    str_youtube_comments.append(str_tmp)\n",
    "    \n",
    "    str_tmp = str(youtube_comment_likes[i].text) \n",
    "    str_tmp = str_tmp.replace('\\n', '') \n",
    "    str_tmp = str_tmp.replace('\\t', '') \n",
    "    str_tmp = str_tmp.replace(' ', '') \n",
    "    str_youtube_comment_likes.append(str_tmp)"
   ]
  },
  {
   "cell_type": "code",
   "execution_count": 82,
   "metadata": {
    "scrolled": true
   },
   "outputs": [
    {
     "name": "stdout",
     "output_type": "stream",
     "text": [
      "수인 3hoursago 인강을계속봐도이해가잘안되서우연히이영상보게되었는데진짜절살려주셨습니다ㅠㅠ 1\n",
      "창헬 18hoursago 진짜대성마이맥39만원주고19패스끊었는데이거보고있음ㅋㅋ 2\n",
      "송윤하 1yearago(edited) 우와진짜귀에쏙쏙들어오고너무좋아요❤감사합니닷 4\n",
      "진혜주 5monthsago 와진짜감사합니다며칠동안이해못하고있던거바로이해했어요진짜감사해요 2\n",
      "a 4yearsago 삼각함수강의부터보고있는데이해쏙쏙되네요감사합니다 6\n",
      "choichoi 2yearsago 사랑해요ㅎㅎ 3\n",
      "1bestking 1yearago 감시합니다♡ 1\n",
      "정지인 1yearago 감사합니다!!! 1\n",
      "조혜민 1yearago 선생님감사합니다...진짜유용하게잘보고있어요ㅠㅠㅠ 4\n",
      "S_ 5monthsago 귀에쏙쏙들어오고이해도잘되고강의도깔끔해서좋아요!!선생님감사합니다ㅜㅜ 1\n",
      "잼나 8monthsago 이해하기쉽게설명해주셔서정말감사합니다!이해가안되는부분이있었는데수악중독님덕분에완벽이해가능할것같아요!!열심히공부해서중간고사잘보도록하겠습니다👍🏻 2\n",
      "유경 2yearsago 이해가잘안되서급하게강의찾아보고있었는데너무잘이해되요감사합니당!! 0\n",
      "yhl 2yearsago 감사합니다!쉽게이해했습니다! 1\n",
      "원앙마좋아요 1yearago 잘보고가요~좋아요누르고갑니당 1\n",
      "ᄋᄋ 2yearsago 교차지원해서답답했었는데도움이많이됬어요! 1\n",
      "탁TV 1yearago 19.4.2수강완료//지렸다최곱니다 7\n",
      "김은 2yearsago 선생님감사해요아까다른영상에댓글단학생인데...선생님진짜부지런하신거에감명받았습시다! 2\n",
      "박성현 11monthsago 하대단하십니다 1\n",
      "파란땅콩 7monthsago 와 1\n",
      "김도현 9monthsago(edited) 2:45초에a=2라고쓰셧는데오탄가요?b=2가맞지않나요?아오타고치셧네요ㅋㅋ 1\n",
      "JosephKim 1yearago 말잇못 0\n",
      "이이수민 4yearsago 식으로이해가되는데평행이동되어진그래프를보면얼만큼평행이동되었는지구하지못하겠어요ㅠ 0\n",
      "쿠키녹차맛 2yearsago 문과생이대학와서미적분학배우느라선생님강의다정주행하고있습니다ㅠㅠ전공책보다훨씬잘가르치세요강의보면한번에이해가갑니다..너무감사드립니다!! 0\n",
      "파랑 1yearago 학창시절삼각함수를너무어렵게느껴서제대로이해하지못하고살았었는데,수악중독님영상을보고나서그기초에대해서완벽히이해하고상쾌함을느꼈습니다.감사합니다! 0\n",
      "김용준 2yearsago 안녕하세요,가끔수학개념보충이필요할때보고있는학생입니다.쉽고이해하기편한강의항상감사합니다!오늘은삼각함수의그래프를복습하던중에절댓값을포함한삼각함수의여러그래프가궁금해졌습니다.혹시가능하시다면삼각함수절댓값그래프강의를부탁드릴게요! 1\n",
      "WhangMike_ 2yearsago 사용하시는프로그램이무엇인지궁금하네요.혹시알려주실수있으신가요? 0\n",
      "녕인ヅ04 11monthsago 예비고1되는학생입니당ㅎㅎ과외를다니지만개념이이해가잘되지않아서그냥대충설명이나들어볼까해서찾다가온곳인데과외나뭐학교선생님들설명보다도더완벽하게이해가되네요....정말감사해요!!개념설명으로는흠잡을곳이없는것같은데요혹시문제풀이까지는아니더라도수악중독님께서쓰시는미지수에그냥간단한숫자를대입해서풀이해주시면훨씬더적용이잘될것같아요!!앞으로도쭉찾아올게요구독은이미완료했습니당감사합니당😍 4\n",
      "ಠ_ಠʕ·ᴥ·ʔ 7monthsago ㄹㅇ다른돈주고보는강의보다훨씬좋음ㅠㅠ이걸왜이제보냐진짜 2\n",
      "AABB 2yearsago 군대갔다온복학생인데선생님의강의를보고암이나았습니다 23\n",
      "김준기 10monthsago 왜탄젠트함수만주기가절댓값b분의'파이'로계산되는지에대해선설명이없죠? 0\n",
      "孫善勇 2yearsago 선생님질문이있습니다.사인과코사인의그래프는a의값에따라서진폭이커지기도,작아지기도하는데요.탄젠트그래프는어떻게되나요?좀더수직선에가까워지나요? 0\n",
      "Rachel 8monthsago 학원에서처음배웠는데이해가안되어서복습차원에서봤는데이해가100퍼센트되네요....진짜대박이에요...어떻게이렇게설명을잘하시는지..... 0\n",
      "JedanLeba 3yearsago lelemajkedesamdosocedobijemkecaizmatematikejebemtikineze 0\n",
      "세환구 2yearsago 선생님탄젠트함수y=tanx에서점근선이x=n파이+파이/2라는데왜그런거고함수가tanx가아니라y=tan(ax+b)꼴일때왜ax+b=n파이+파이/2로놓고점근선을구하는건가요? 0\n",
      "가나 2yearsago 2분51초에a=2라는데이a가어디들어가는건가요?식은y=sinbx인데ㅜㅜ 0\n",
      "용용 1yearago 2:45 1\n",
      "김 3yearsago 선생님만약에y=sin{(f(x)}일때,f(x)자리에bx+c같은일차식말고이차식이나삼차식이들어가면어떻게하나요?그것도극대극소찾아서그리면되요? 0\n",
      "Chamel 2yearsago 한가지의문점이생겨서질문남겨봅니다예를들어sin(ax+b)가있을때sin은주기함수이므로sin(ax+2pi+b)로볼수있는데여기서b로묶으면sin{a(x+2pi/a+b/a)}이므로주기는(2pi+b)/|a|아닌가요?왜b가주기에영향을안미치는지가궁금합니다 1\n",
      "Chamel 2yearsago 선생님한가지궁금한점이있어질문남겨봅니다.sin(ax)=sin(ax+2pi)에서sin(ax)의그래프를그리고a=1/2,x=pi라고가정할때그래프의값이같지가않는데왜이런것인가요?sin(ax)의주기는4pi가되고x=pi이므로sin(ax)=1,sin(ax+2pi)=-1의값을가지게됩니다.이해가안가는부분은그냥값만놓고보았을때sin(ax)=sin(ax+2pi)는성립을하는데그래프를그려보면다르고sin(ax)=sin(ax+4pi)라고가정하면그래프는일치하는데값이달라집니다.뭔가그래프를그리는것에서오류가생긴거같은데제가어디서실수를한건가요?주기함수는일반함수랑다르게그래프를그리고평행이동을하는것이아니라주기값을더하고그래프를그려야성립되는건가요? 1\n"
     ]
    }
   ],
   "source": [
    "# For test(another youtube video)\n",
    "for i in range(len(str_youtube_userIDs)): \n",
    "    print(str_youtube_userIDs[i], str_youtube_time[i], str_youtube_comments[i], str_youtube_comment_likes[i])"
   ]
  },
  {
   "cell_type": "code",
   "execution_count": 196,
   "metadata": {},
   "outputs": [],
   "source": [
    "import pandas as pd \n",
    "pd_data = {\"ID\":str_youtube_userIDs, \"Time\": str_youtube_time, \"Comment\":str_youtube_comments, 'Comment_Likes': str_youtube_comment_likes} \n",
    "youtube_pd = pd.DataFrame(pd_data)"
   ]
  },
  {
   "cell_type": "code",
   "execution_count": 197,
   "metadata": {
    "scrolled": true
   },
   "outputs": [
    {
     "data": {
      "text/html": [
       "<div>\n",
       "<style scoped>\n",
       "    .dataframe tbody tr th:only-of-type {\n",
       "        vertical-align: middle;\n",
       "    }\n",
       "\n",
       "    .dataframe tbody tr th {\n",
       "        vertical-align: top;\n",
       "    }\n",
       "\n",
       "    .dataframe thead th {\n",
       "        text-align: right;\n",
       "    }\n",
       "</style>\n",
       "<table border=\"1\" class=\"dataframe\">\n",
       "  <thead>\n",
       "    <tr style=\"text-align: right;\">\n",
       "      <th></th>\n",
       "      <th>ID</th>\n",
       "      <th>Time</th>\n",
       "      <th>Comment</th>\n",
       "      <th>Comment_Likes</th>\n",
       "    </tr>\n",
       "  </thead>\n",
       "  <tbody>\n",
       "    <tr>\n",
       "      <th>0</th>\n",
       "      <td>EjK</td>\n",
       "      <td>10monthsago</td>\n",
       "      <td>동원 가수님  생일 축하해요 영원히  응원합니다</td>\n",
       "      <td>59</td>\n",
       "    </tr>\n",
       "    <tr>\n",
       "      <th>1</th>\n",
       "      <td>ruru09</td>\n",
       "      <td>3monthsago</td>\n",
       "      <td>애절하다정석이다고급스럽다동원군 노래들으면 다른 노랜 귀에 들어오지도 않아요</td>\n",
       "      <td>17</td>\n",
       "    </tr>\n",
       "    <tr>\n",
       "      <th>2</th>\n",
       "      <td>노명숙</td>\n",
       "      <td>8monthsago</td>\n",
       "      <td>매일매일이 감동입니다 정동원님 덕분에</td>\n",
       "      <td>13</td>\n",
       "    </tr>\n",
       "    <tr>\n",
       "      <th>3</th>\n",
       "      <td>녜딘ND</td>\n",
       "      <td>7monthsago</td>\n",
       "      <td>항상 잘때마다 빠짐없이 이 노래 틀면서 자용동원군 앞으로도 화이팅</td>\n",
       "      <td>9</td>\n",
       "    </tr>\n",
       "    <tr>\n",
       "      <th>4</th>\n",
       "      <td>김명희</td>\n",
       "      <td>8monthsago</td>\n",
       "      <td>우리 동원군미스터트롯중 최고로 좋아하는 가수입니다어리지만목소리가 마음을 움직이는깊은...</td>\n",
       "      <td>18</td>\n",
       "    </tr>\n",
       "  </tbody>\n",
       "</table>\n",
       "</div>"
      ],
      "text/plain": [
       "       ID         Time                                            Comment  \\\n",
       "0     EjK  10monthsago                         동원 가수님  생일 축하해요 영원히  응원합니다   \n",
       "1  ruru09   3monthsago          애절하다정석이다고급스럽다동원군 노래들으면 다른 노랜 귀에 들어오지도 않아요   \n",
       "2     노명숙   8monthsago                               매일매일이 감동입니다 정동원님 덕분에   \n",
       "3    녜딘ND   7monthsago               항상 잘때마다 빠짐없이 이 노래 틀면서 자용동원군 앞으로도 화이팅   \n",
       "4     김명희   8monthsago  우리 동원군미스터트롯중 최고로 좋아하는 가수입니다어리지만목소리가 마음을 움직이는깊은...   \n",
       "\n",
       "  Comment_Likes  \n",
       "0            59  \n",
       "1            17  \n",
       "2            13  \n",
       "3             9  \n",
       "4            18  "
      ]
     },
     "execution_count": 197,
     "metadata": {},
     "output_type": "execute_result"
    }
   ],
   "source": [
    "youtube_pd.head()"
   ]
  },
  {
   "cell_type": "code",
   "execution_count": 91,
   "metadata": {},
   "outputs": [
    {
     "data": {
      "text/html": [
       "<div>\n",
       "<style scoped>\n",
       "    .dataframe tbody tr th:only-of-type {\n",
       "        vertical-align: middle;\n",
       "    }\n",
       "\n",
       "    .dataframe tbody tr th {\n",
       "        vertical-align: top;\n",
       "    }\n",
       "\n",
       "    .dataframe thead th {\n",
       "        text-align: right;\n",
       "    }\n",
       "</style>\n",
       "<table border=\"1\" class=\"dataframe\">\n",
       "  <thead>\n",
       "    <tr style=\"text-align: right;\">\n",
       "      <th></th>\n",
       "      <th>ID</th>\n",
       "      <th>Time</th>\n",
       "      <th>Comment</th>\n",
       "      <th>Comment_Likes</th>\n",
       "    </tr>\n",
       "  </thead>\n",
       "  <tbody>\n",
       "  </tbody>\n",
       "</table>\n",
       "</div>"
      ],
      "text/plain": [
       "Empty DataFrame\n",
       "Columns: [ID, Time, Comment, Comment_Likes]\n",
       "Index: []"
      ]
     },
     "execution_count": 91,
     "metadata": {},
     "output_type": "execute_result"
    }
   ],
   "source": [
    "# youtube_pd.loc[(youtube_pd['Time'] == '11monthsago') | (youtube_pd['Time'] == '1yearago') | (youtube_pd['Time'] == '12monthsago') | (youtube_pd['Time'] == '1yearago(edited)') | (youtube_pd['Time'] == '12monthsago(edited)') | (youtube_pd['Time'] == '11monthsago(edited)')]\n",
    "# youtube_pd['Time'].str[:2]"
   ]
  },
  {
   "cell_type": "code",
   "execution_count": 198,
   "metadata": {},
   "outputs": [
    {
     "data": {
      "text/plain": [
       "(1260, 4)"
      ]
     },
     "execution_count": 198,
     "metadata": {},
     "output_type": "execute_result"
    }
   ],
   "source": [
    "# 원래 총 3500개 정도... \n",
    "youtube_pd.shape"
   ]
  },
  {
   "cell_type": "code",
   "execution_count": 199,
   "metadata": {},
   "outputs": [],
   "source": [
    "import re\n",
    "\n",
    "def onlyhangul(x):\n",
    "    pattern = re.compile('[^ ㄱ-ㅣ가-힣]+') # 한글 및 띄어쓰기에 해당되지 않는 부분(영어, 기호, 이모티콘 등)\n",
    "    results = pattern.sub('', x)\n",
    "    # removed_string = pattern.findall(x)\n",
    "    return results"
   ]
  },
  {
   "cell_type": "code",
   "execution_count": 200,
   "metadata": {},
   "outputs": [
    {
     "data": {
      "text/html": [
       "<div>\n",
       "<style scoped>\n",
       "    .dataframe tbody tr th:only-of-type {\n",
       "        vertical-align: middle;\n",
       "    }\n",
       "\n",
       "    .dataframe tbody tr th {\n",
       "        vertical-align: top;\n",
       "    }\n",
       "\n",
       "    .dataframe thead th {\n",
       "        text-align: right;\n",
       "    }\n",
       "</style>\n",
       "<table border=\"1\" class=\"dataframe\">\n",
       "  <thead>\n",
       "    <tr style=\"text-align: right;\">\n",
       "      <th></th>\n",
       "      <th>ID</th>\n",
       "      <th>Time</th>\n",
       "      <th>Comment</th>\n",
       "      <th>Comment_Likes</th>\n",
       "    </tr>\n",
       "  </thead>\n",
       "  <tbody>\n",
       "    <tr>\n",
       "      <th>0</th>\n",
       "      <td>EjK</td>\n",
       "      <td>10monthsago</td>\n",
       "      <td>동원 가수님  생일 축하해요 영원히  응원합니다</td>\n",
       "      <td>59</td>\n",
       "    </tr>\n",
       "    <tr>\n",
       "      <th>1</th>\n",
       "      <td>ruru09</td>\n",
       "      <td>3monthsago</td>\n",
       "      <td>애절하다정석이다고급스럽다동원군 노래들으면 다른 노랜 귀에 들어오지도 않아요</td>\n",
       "      <td>17</td>\n",
       "    </tr>\n",
       "    <tr>\n",
       "      <th>2</th>\n",
       "      <td>노명숙</td>\n",
       "      <td>8monthsago</td>\n",
       "      <td>매일매일이 감동입니다 정동원님 덕분에</td>\n",
       "      <td>13</td>\n",
       "    </tr>\n",
       "    <tr>\n",
       "      <th>3</th>\n",
       "      <td>녜딘ND</td>\n",
       "      <td>7monthsago</td>\n",
       "      <td>항상 잘때마다 빠짐없이 이 노래 틀면서 자용동원군 앞으로도 화이팅</td>\n",
       "      <td>9</td>\n",
       "    </tr>\n",
       "    <tr>\n",
       "      <th>4</th>\n",
       "      <td>김명희</td>\n",
       "      <td>8monthsago</td>\n",
       "      <td>우리 동원군미스터트롯중 최고로 좋아하는 가수입니다어리지만목소리가 마음을 움직이는깊은...</td>\n",
       "      <td>18</td>\n",
       "    </tr>\n",
       "  </tbody>\n",
       "</table>\n",
       "</div>"
      ],
      "text/plain": [
       "       ID         Time                                            Comment  \\\n",
       "0     EjK  10monthsago                         동원 가수님  생일 축하해요 영원히  응원합니다   \n",
       "1  ruru09   3monthsago          애절하다정석이다고급스럽다동원군 노래들으면 다른 노랜 귀에 들어오지도 않아요   \n",
       "2     노명숙   8monthsago                               매일매일이 감동입니다 정동원님 덕분에   \n",
       "3    녜딘ND   7monthsago               항상 잘때마다 빠짐없이 이 노래 틀면서 자용동원군 앞으로도 화이팅   \n",
       "4     김명희   8monthsago  우리 동원군미스터트롯중 최고로 좋아하는 가수입니다어리지만목소리가 마음을 움직이는깊은...   \n",
       "\n",
       "  Comment_Likes  \n",
       "0            59  \n",
       "1            17  \n",
       "2            13  \n",
       "3             9  \n",
       "4            18  "
      ]
     },
     "execution_count": 200,
     "metadata": {},
     "output_type": "execute_result"
    }
   ],
   "source": [
    "youtube_pd['Comment'] = youtube_pd['Comment'].apply(onlyhangul)\n",
    "youtube_pd.head()"
   ]
  },
  {
   "cell_type": "code",
   "execution_count": 134,
   "metadata": {},
   "outputs": [
    {
     "name": "stdout",
     "output_type": "stream",
     "text": [
      "0.5.2\n"
     ]
    }
   ],
   "source": [
    "import konlpy\n",
    "from konlpy.tag import Kkma, Okt, Komoran\n",
    "\n",
    "print(konlpy.__version__)"
   ]
  },
  {
   "cell_type": "markdown",
   "metadata": {},
   "source": [
    "## 맞춤법 검사기 2개 비교 \n",
    "### 1. Py-Hanspell\n",
    "### 2. PyKoSpacing\n",
    "#### -> 둘 다 비슷하지만 Py-Hanspell이 조금 더 나아보임"
   ]
  },
  {
   "cell_type": "code",
   "execution_count": 178,
   "metadata": {},
   "outputs": [
    {
     "name": "stdout",
     "output_type": "stream",
     "text": [
      "Collecting git+https://github.com/ssut/py-hanspell.git\n",
      "  Cloning https://github.com/ssut/py-hanspell.git to c:\\users\\public\\documents\\estsoft\\creatortemp\\pip-req-build-9b9gypul\n",
      "Requirement already satisfied: requests in c:\\users\\user\\appdata\\roaming\\python\\python37\\site-packages (from py-hanspell==1.1) (2.22.0)\n",
      "Requirement already satisfied: idna<2.9,>=2.5 in c:\\users\\user\\appdata\\roaming\\python\\python37\\site-packages (from requests->py-hanspell==1.1) (2.8)\n",
      "Requirement already satisfied: urllib3!=1.25.0,!=1.25.1,<1.26,>=1.21.1 in c:\\users\\user\\appdata\\roaming\\python\\python37\\site-packages (from requests->py-hanspell==1.1) (1.25.3)\n",
      "Requirement already satisfied: chardet<3.1.0,>=3.0.2 in c:\\users\\user\\appdata\\roaming\\python\\python37\\site-packages (from requests->py-hanspell==1.1) (3.0.4)\n",
      "Requirement already satisfied: certifi>=2017.4.17 in c:\\users\\user\\anaconda3\\envs\\conda-env\\lib\\site-packages (from requests->py-hanspell==1.1) (2020.6.20)\n",
      "Building wheels for collected packages: py-hanspell\n",
      "  Building wheel for py-hanspell (setup.py): started\n",
      "  Building wheel for py-hanspell (setup.py): finished with status 'done'\n",
      "  Created wheel for py-hanspell: filename=py_hanspell-1.1-py3-none-any.whl size=4899 sha256=be43a8ad12d136a0c86ea167422746c330360d2d6ad9aa0ad230ec136bd407ca\n",
      "  Stored in directory: C:\\Users\\Public\\Documents\\ESTsoft\\CreatorTemp\\pip-ephem-wheel-cache-4ky79pa_\\wheels\\ab\\f5\\7b\\d4124bb329c905301baed80e2ae45aa14e824f62ebc3ec2cc4\n",
      "Successfully built py-hanspell\n",
      "Installing collected packages: py-hanspell\n",
      "Successfully installed py-hanspell-1.1\n"
     ]
    },
    {
     "name": "stderr",
     "output_type": "stream",
     "text": [
      "WARNING: You are using pip version 20.2.3; however, version 21.0.1 is available.\n",
      "You should consider upgrading via the 'c:\\users\\user\\anaconda3\\envs\\conda-env\\python.exe -m pip install --upgrade pip' command.\n"
     ]
    }
   ],
   "source": [
    "# Py-Hanspell은 네이버 한글 맞춤법 검사기를 바탕으로 만들어진 패키지\n",
    "!pip install git+https://github.com/ssut/py-hanspell.git"
   ]
  },
  {
   "cell_type": "code",
   "execution_count": 180,
   "metadata": {},
   "outputs": [
    {
     "name": "stdout",
     "output_type": "stream",
     "text": [
      "우리 동원 군 미스터 트롯 중 최고로 좋아하는 가수입니다 어리지만 목소리가 마음을 움직이는 깊은 울림이 있는 귀한 목소리로 많은 사람들에게 위로와 기쁨을 주는 큰 바위 같은 가수가 되어주세요 사랑합니다\n"
     ]
    }
   ],
   "source": [
    "from hanspell import spell_checker\n",
    "test = youtube_pd['Comment'][6]\n",
    "spelled_sent = spell_checker.check(test)\n",
    "\n",
    "hanspell_sent = spelled_sent.checked\n",
    "print(hanspell_sent)"
   ]
  },
  {
   "cell_type": "code",
   "execution_count": 190,
   "metadata": {},
   "outputs": [
    {
     "name": "stdout",
     "output_type": "stream",
     "text": [
      "Collecting git+https://github.com/haven-jeon/PyKoSpacing.git\n",
      "  Cloning https://github.com/haven-jeon/PyKoSpacing.git to c:\\users\\public\\documents\\estsoft\\creatortemp\\pip-req-build-a4vbeyno\n"
     ]
    },
    {
     "name": "stderr",
     "output_type": "stream",
     "text": [
      "  WARNING: The script tensorboard.exe is installed in 'C:\\Users\\User\\AppData\\Roaming\\Python\\Python37\\Scripts' which is not on PATH.\n",
      "  Consider adding this directory to PATH or, if you prefer to suppress this warning, use --no-warn-script-location.\n",
      "  WARNING: The scripts estimator_ckpt_converter.exe, import_pb_to_tensorboard.exe, saved_model_cli.exe, tensorboard.exe, tf_upgrade_v2.exe, tflite_convert.exe, toco.exe and toco_from_protos.exe are installed in 'C:\\Users\\User\\AppData\\Roaming\\Python\\Python37\\Scripts' which is not on PATH.\n",
      "  Consider adding this directory to PATH or, if you prefer to suppress this warning, use --no-warn-script-location.\n",
      "  WARNING: The script pykos.exe is installed in 'C:\\Users\\User\\AppData\\Roaming\\Python\\Python37\\Scripts' which is not on PATH.\n",
      "  Consider adding this directory to PATH or, if you prefer to suppress this warning, use --no-warn-script-location.\n",
      "WARNING: You are using pip version 20.2.3; however, version 21.0.1 is available.\n",
      "You should consider upgrading via the 'c:\\users\\user\\anaconda3\\envs\\conda-env\\python.exe -m pip install --upgrade pip' command.\n"
     ]
    },
    {
     "name": "stdout",
     "output_type": "stream",
     "text": [
      "Collecting tensorflow==2.4.0\n",
      "  Using cached tensorflow-2.4.0-cp37-cp37m-win_amd64.whl (370.7 MB)\n",
      "Collecting keras>=2.4.3\n",
      "  Using cached Keras-2.4.3-py2.py3-none-any.whl (36 kB)\n",
      "Requirement already satisfied: h5py==2.10.0 in c:\\users\\user\\anaconda3\\envs\\conda-env\\lib\\site-packages (from pykospacing==0.4) (2.10.0)\n",
      "Collecting argparse>=1.4.0\n",
      "  Using cached argparse-1.4.0-py2.py3-none-any.whl (23 kB)\n",
      "Requirement already satisfied: wheel~=0.35 in c:\\users\\user\\anaconda3\\envs\\conda-env\\lib\\site-packages (from tensorflow==2.4.0->pykospacing==0.4) (0.35.1)\n",
      "Requirement already satisfied: six~=1.15.0 in c:\\users\\user\\anaconda3\\envs\\conda-env\\lib\\site-packages (from tensorflow==2.4.0->pykospacing==0.4) (1.15.0)\n",
      "Collecting gast==0.3.3\n",
      "  Using cached gast-0.3.3-py2.py3-none-any.whl (9.7 kB)\n",
      "Collecting opt-einsum~=3.3.0\n",
      "  Using cached opt_einsum-3.3.0-py3-none-any.whl (65 kB)\n",
      "Collecting keras-preprocessing~=1.1.2\n",
      "  Using cached Keras_Preprocessing-1.1.2-py2.py3-none-any.whl (42 kB)\n",
      "Collecting tensorboard~=2.4\n",
      "  Using cached tensorboard-2.4.1-py3-none-any.whl (10.6 MB)\n",
      "Requirement already satisfied: termcolor~=1.1.0 in c:\\users\\user\\anaconda3\\envs\\conda-env\\lib\\site-packages (from tensorflow==2.4.0->pykospacing==0.4) (1.1.0)\n",
      "Collecting flatbuffers~=1.12.0\n",
      "  Using cached flatbuffers-1.12-py2.py3-none-any.whl (15 kB)\n",
      "Collecting astunparse~=1.6.3\n",
      "  Using cached astunparse-1.6.3-py2.py3-none-any.whl (12 kB)\n",
      "Requirement already satisfied: numpy~=1.19.2 in c:\\users\\user\\anaconda3\\envs\\conda-env\\lib\\site-packages (from tensorflow==2.4.0->pykospacing==0.4) (1.19.5)\n",
      "Collecting tensorflow-estimator<2.5.0,>=2.4.0rc0\n",
      "  Using cached tensorflow_estimator-2.4.0-py2.py3-none-any.whl (462 kB)\n",
      "Requirement already satisfied: google-pasta~=0.2 in c:\\users\\user\\anaconda3\\envs\\conda-env\\lib\\site-packages (from tensorflow==2.4.0->pykospacing==0.4) (0.2.0)\n",
      "Requirement already satisfied: protobuf>=3.9.2 in c:\\users\\user\\anaconda3\\envs\\conda-env\\lib\\site-packages (from tensorflow==2.4.0->pykospacing==0.4) (3.13.0)\n",
      "Requirement already satisfied: typing-extensions~=3.7.4 in c:\\users\\user\\anaconda3\\envs\\conda-env\\lib\\site-packages (from tensorflow==2.4.0->pykospacing==0.4) (3.7.4.3)\n",
      "Requirement already satisfied: grpcio~=1.32.0 in c:\\users\\user\\anaconda3\\envs\\conda-env\\lib\\site-packages (from tensorflow==2.4.0->pykospacing==0.4) (1.32.0)\n",
      "Requirement already satisfied: absl-py~=0.10 in c:\\users\\user\\anaconda3\\envs\\conda-env\\lib\\site-packages (from tensorflow==2.4.0->pykospacing==0.4) (0.11.0)\n",
      "Requirement already satisfied: wrapt~=1.12.1 in c:\\users\\user\\anaconda3\\envs\\conda-env\\lib\\site-packages (from tensorflow==2.4.0->pykospacing==0.4) (1.12.1)\n",
      "Requirement already satisfied: scipy>=0.14 in c:\\users\\user\\anaconda3\\envs\\conda-env\\lib\\site-packages (from keras>=2.4.3->pykospacing==0.4) (1.5.2)\n",
      "Collecting pyyaml\n",
      "  Using cached PyYAML-5.4.1-cp37-cp37m-win_amd64.whl (210 kB)\n",
      "Requirement already satisfied: werkzeug>=0.11.15 in c:\\users\\user\\anaconda3\\envs\\conda-env\\lib\\site-packages (from tensorboard~=2.4->tensorflow==2.4.0->pykospacing==0.4) (0.16.1)\n",
      "Requirement already satisfied: markdown>=2.6.8 in c:\\users\\user\\anaconda3\\envs\\conda-env\\lib\\site-packages (from tensorboard~=2.4->tensorflow==2.4.0->pykospacing==0.4) (3.2.2)\n",
      "Requirement already satisfied: requests<3,>=2.21.0 in c:\\users\\user\\appdata\\roaming\\python\\python37\\site-packages (from tensorboard~=2.4->tensorflow==2.4.0->pykospacing==0.4) (2.22.0)\n",
      "Requirement already satisfied: google-auth<2,>=1.6.3 in c:\\users\\user\\anaconda3\\envs\\conda-env\\lib\\site-packages (from tensorboard~=2.4->tensorflow==2.4.0->pykospacing==0.4) (1.21.2)\n",
      "Requirement already satisfied: google-auth-oauthlib<0.5,>=0.4.1 in c:\\users\\user\\anaconda3\\envs\\conda-env\\lib\\site-packages (from tensorboard~=2.4->tensorflow==2.4.0->pykospacing==0.4) (0.4.1)\n",
      "Requirement already satisfied: tensorboard-plugin-wit>=1.6.0 in c:\\users\\user\\anaconda3\\envs\\conda-env\\lib\\site-packages (from tensorboard~=2.4->tensorflow==2.4.0->pykospacing==0.4) (1.6.0)\n",
      "Requirement already satisfied: setuptools>=41.0.0 in c:\\users\\user\\anaconda3\\envs\\conda-env\\lib\\site-packages (from tensorboard~=2.4->tensorflow==2.4.0->pykospacing==0.4) (49.6.0.post20200814)\n",
      "Requirement already satisfied: importlib-metadata; python_version < \"3.8\" in c:\\users\\user\\anaconda3\\envs\\conda-env\\lib\\site-packages (from markdown>=2.6.8->tensorboard~=2.4->tensorflow==2.4.0->pykospacing==0.4) (1.7.0)\n",
      "Requirement already satisfied: chardet<3.1.0,>=3.0.2 in c:\\users\\user\\appdata\\roaming\\python\\python37\\site-packages (from requests<3,>=2.21.0->tensorboard~=2.4->tensorflow==2.4.0->pykospacing==0.4) (3.0.4)\n",
      "Requirement already satisfied: idna<2.9,>=2.5 in c:\\users\\user\\appdata\\roaming\\python\\python37\\site-packages (from requests<3,>=2.21.0->tensorboard~=2.4->tensorflow==2.4.0->pykospacing==0.4) (2.8)\n",
      "Requirement already satisfied: certifi>=2017.4.17 in c:\\users\\user\\anaconda3\\envs\\conda-env\\lib\\site-packages (from requests<3,>=2.21.0->tensorboard~=2.4->tensorflow==2.4.0->pykospacing==0.4) (2020.6.20)\n",
      "Requirement already satisfied: urllib3!=1.25.0,!=1.25.1,<1.26,>=1.21.1 in c:\\users\\user\\appdata\\roaming\\python\\python37\\site-packages (from requests<3,>=2.21.0->tensorboard~=2.4->tensorflow==2.4.0->pykospacing==0.4) (1.25.3)\n",
      "Requirement already satisfied: cachetools<5.0,>=2.0.0 in c:\\users\\user\\anaconda3\\envs\\conda-env\\lib\\site-packages (from google-auth<2,>=1.6.3->tensorboard~=2.4->tensorflow==2.4.0->pykospacing==0.4) (4.1.1)\n",
      "Requirement already satisfied: pyasn1-modules>=0.2.1 in c:\\users\\user\\anaconda3\\envs\\conda-env\\lib\\site-packages (from google-auth<2,>=1.6.3->tensorboard~=2.4->tensorflow==2.4.0->pykospacing==0.4) (0.2.7)\n",
      "Requirement already satisfied: rsa<5,>=3.1.4; python_version >= \"3.5\" in c:\\users\\user\\anaconda3\\envs\\conda-env\\lib\\site-packages (from google-auth<2,>=1.6.3->tensorboard~=2.4->tensorflow==2.4.0->pykospacing==0.4) (4.6)\n",
      "Requirement already satisfied: requests-oauthlib>=0.7.0 in c:\\users\\user\\appdata\\roaming\\python\\python37\\site-packages (from google-auth-oauthlib<0.5,>=0.4.1->tensorboard~=2.4->tensorflow==2.4.0->pykospacing==0.4) (1.2.0)\n",
      "Requirement already satisfied: zipp>=0.5 in c:\\users\\user\\anaconda3\\envs\\conda-env\\lib\\site-packages (from importlib-metadata; python_version < \"3.8\"->markdown>=2.6.8->tensorboard~=2.4->tensorflow==2.4.0->pykospacing==0.4) (3.1.0)\n",
      "Requirement already satisfied: pyasn1<0.5.0,>=0.4.6 in c:\\users\\user\\anaconda3\\envs\\conda-env\\lib\\site-packages (from pyasn1-modules>=0.2.1->google-auth<2,>=1.6.3->tensorboard~=2.4->tensorflow==2.4.0->pykospacing==0.4) (0.4.8)\n",
      "Requirement already satisfied: oauthlib>=3.0.0 in c:\\users\\user\\appdata\\roaming\\python\\python37\\site-packages (from requests-oauthlib>=0.7.0->google-auth-oauthlib<0.5,>=0.4.1->tensorboard~=2.4->tensorflow==2.4.0->pykospacing==0.4) (3.0.1)\n",
      "Building wheels for collected packages: pykospacing\n",
      "  Building wheel for pykospacing (setup.py): started\n",
      "  Building wheel for pykospacing (setup.py): finished with status 'done'\n",
      "  Created wheel for pykospacing: filename=pykospacing-0.4-py3-none-any.whl size=2255498 sha256=4bc8c583215f3436b48bff1f694f6f04729d571d60773aef2bc378885182c3ab\n",
      "  Stored in directory: C:\\Users\\Public\\Documents\\ESTsoft\\CreatorTemp\\pip-ephem-wheel-cache-4rewz6og\\wheels\\9b\\93\\81\\a2a7dc8c66ede5bf30634d20635f32b95eac7ca2ea8844058b\n",
      "Successfully built pykospacing\n",
      "Installing collected packages: gast, opt-einsum, keras-preprocessing, tensorboard, flatbuffers, astunparse, tensorflow-estimator, tensorflow, pyyaml, keras, argparse, pykospacing\n",
      "Successfully installed argparse-1.4.0 astunparse-1.6.3 flatbuffers-1.12 gast-0.3.3 keras-2.4.3 keras-preprocessing-1.1.2 opt-einsum-3.3.0 pykospacing-0.4 pyyaml-5.4.1 tensorboard-2.4.1 tensorflow-2.4.0 tensorflow-estimator-2.4.0\n"
     ]
    }
   ],
   "source": [
    "# 전희원님이 개발한 PyKoSpacing\n",
    "!pip install --user git+https://github.com/haven-jeon/PyKoSpacing.git"
   ]
  },
  {
   "cell_type": "code",
   "execution_count": 193,
   "metadata": {},
   "outputs": [
    {
     "name": "stdout",
     "output_type": "stream",
     "text": [
      "우리 동원군 미스터트롯 중 최고로 좋아하는 가 수입니다 어리지만 목소리가 마음을 움직이는 깊은 울림이 있는 귀한 목소리로 많은 사람들에게 위로와 기쁨을 주는 큰 바위 같은 가수가 되어 주세요사랑합니다\n"
     ]
    }
   ],
   "source": [
    "from pykospacing import spacing\n",
    "\n",
    "kospacing_sent = spacing(test)\n",
    "\n",
    "print(kospacing_sent)"
   ]
  },
  {
   "cell_type": "code",
   "execution_count": 201,
   "metadata": {},
   "outputs": [],
   "source": [
    "def spellchecker(x):\n",
    "    # Py-Hanspell 사용\n",
    "    spelled_sent = spell_checker.check(x)\n",
    "    hanspell_sent = spelled_sent.checked\n",
    "    return hanspell_sent"
   ]
  },
  {
   "cell_type": "code",
   "execution_count": 203,
   "metadata": {},
   "outputs": [
    {
     "data": {
      "text/html": [
       "<div>\n",
       "<style scoped>\n",
       "    .dataframe tbody tr th:only-of-type {\n",
       "        vertical-align: middle;\n",
       "    }\n",
       "\n",
       "    .dataframe tbody tr th {\n",
       "        vertical-align: top;\n",
       "    }\n",
       "\n",
       "    .dataframe thead th {\n",
       "        text-align: right;\n",
       "    }\n",
       "</style>\n",
       "<table border=\"1\" class=\"dataframe\">\n",
       "  <thead>\n",
       "    <tr style=\"text-align: right;\">\n",
       "      <th></th>\n",
       "      <th>ID</th>\n",
       "      <th>Time</th>\n",
       "      <th>Comment</th>\n",
       "      <th>Comment_Likes</th>\n",
       "    </tr>\n",
       "  </thead>\n",
       "  <tbody>\n",
       "    <tr>\n",
       "      <th>0</th>\n",
       "      <td>EjK</td>\n",
       "      <td>10monthsago</td>\n",
       "      <td>동원 가수님  생일 축하해요 영원히  응원합니다</td>\n",
       "      <td>59</td>\n",
       "    </tr>\n",
       "    <tr>\n",
       "      <th>1</th>\n",
       "      <td>ruru09</td>\n",
       "      <td>3monthsago</td>\n",
       "      <td>애절하다 정석이다 고급스럽다 동원 군 노래 들으면 다른 노랜 귀에 들어오지도 않아요</td>\n",
       "      <td>17</td>\n",
       "    </tr>\n",
       "    <tr>\n",
       "      <th>2</th>\n",
       "      <td>노명숙</td>\n",
       "      <td>8monthsago</td>\n",
       "      <td>매일매일이 감동입니다 정동원 님 덕분에</td>\n",
       "      <td>13</td>\n",
       "    </tr>\n",
       "    <tr>\n",
       "      <th>3</th>\n",
       "      <td>녜딘ND</td>\n",
       "      <td>7monthsago</td>\n",
       "      <td>항상 잘 때마다 빠짐없이 이 노래 틀면서 자용 동원 군 앞으로도 파이팅</td>\n",
       "      <td>9</td>\n",
       "    </tr>\n",
       "    <tr>\n",
       "      <th>4</th>\n",
       "      <td>김명희</td>\n",
       "      <td>8monthsago</td>\n",
       "      <td>우리 동원 군 미스터 트롯 중 최고로 좋아하는 가수입니다 어리지만 목소리가 마음을 ...</td>\n",
       "      <td>18</td>\n",
       "    </tr>\n",
       "  </tbody>\n",
       "</table>\n",
       "</div>"
      ],
      "text/plain": [
       "       ID         Time                                            Comment  \\\n",
       "0     EjK  10monthsago                         동원 가수님  생일 축하해요 영원히  응원합니다   \n",
       "1  ruru09   3monthsago     애절하다 정석이다 고급스럽다 동원 군 노래 들으면 다른 노랜 귀에 들어오지도 않아요   \n",
       "2     노명숙   8monthsago                              매일매일이 감동입니다 정동원 님 덕분에   \n",
       "3    녜딘ND   7monthsago            항상 잘 때마다 빠짐없이 이 노래 틀면서 자용 동원 군 앞으로도 파이팅   \n",
       "4     김명희   8monthsago  우리 동원 군 미스터 트롯 중 최고로 좋아하는 가수입니다 어리지만 목소리가 마음을 ...   \n",
       "\n",
       "  Comment_Likes  \n",
       "0            59  \n",
       "1            17  \n",
       "2            13  \n",
       "3             9  \n",
       "4            18  "
      ]
     },
     "execution_count": 203,
     "metadata": {},
     "output_type": "execute_result"
    }
   ],
   "source": [
    "youtube_pd['Comment'] = youtube_pd['Comment'].apply(spellchecker)\n",
    "youtube_pd.head()"
   ]
  },
  {
   "cell_type": "code",
   "execution_count": 204,
   "metadata": {},
   "outputs": [],
   "source": [
    "def preprocessing(x):\n",
    "    kkma = Kkma() # 꼬꼬마 품사 태그: http://kkma.snu.ac.kr/documents/?doc=postag\n",
    "    # 명사나 형용사가 없을 경우 error 발생 -> 예외 처리 필요\n",
    "    # kkma java.lang.nullpointerexception 오류\n",
    "    try:\n",
    "        nouns = set(kkma.nouns(x))\n",
    "    except:\n",
    "        nouns = {'명사 없음'}\n",
    "    \n",
    "    try:\n",
    "        adj_list = []\n",
    "        for word in kkma.pos(test):\n",
    "            if word[1] in ['VV', 'VA', 'VX']: # VV: 동사, VA: 형용사, VX: 보조용언\n",
    "                adj_list.append(word[0])\n",
    "        adjective = set(adj_list)\n",
    "\n",
    "    except:\n",
    "        adjective = {'형용사 없음'}\n",
    "        \n",
    "    union = nouns.symmetric_difference(adjective)\n",
    "    return union"
   ]
  },
  {
   "cell_type": "code",
   "execution_count": 205,
   "metadata": {},
   "outputs": [],
   "source": [
    "youtube_pd['refined_Comment'] = youtube_pd['Comment'].apply(preprocessing)"
   ]
  },
  {
   "cell_type": "code",
   "execution_count": 206,
   "metadata": {},
   "outputs": [
    {
     "name": "stdout",
     "output_type": "stream",
     "text": [
      "우리 동원 군 미스터 트롯 중 최고로 좋아하는 가수입니다 어리지만 목소리가 마음을 움직이는 깊은 울림이 있는 귀한 목소리로 많은 사람들에게 위로와 기쁨을 주는 큰 바위 같은 가수가 되어주세요 사랑합니다\n",
      "{'여러분', '삐', '있', '기쁨', '주세', '모두', '바라보', '자', '잘', '최고', '너무나', '스럽', '주', '아', '건강', '사람', '지', '다', '으로', '더욱더', '고', '며', 'ㄹ', '중', '애칭', '성장', '트롯', '울림', '하', '제일', 'ㄴ', '은', '었', '곁', '마음', '울', '지키', '가수', '도록', '소리', '정말로', '수', '맘', '에', '국민', '군', '귀', '에서', '변함없이', '바위', '아이', '꼭', 'ㄴ다고', '영원히', '이렇게', '목소리', '미스터', '약이', '드', 'ㅂ시다', '목', '위로', '이', '아름답', '어', '이쁘', '게', '맑'}\n"
     ]
    }
   ],
   "source": [
    "print(youtube_pd['Comment'][4])\n",
    "print(youtube_pd['refined_Comment'][4])"
   ]
  },
  {
   "cell_type": "code",
   "execution_count": 208,
   "metadata": {},
   "outputs": [],
   "source": [
    "youtube_pd.to_csv('./youtube_comment_Jung.csv', encoding='utf-8-sig')"
   ]
  },
  {
   "cell_type": "code",
   "execution_count": null,
   "metadata": {},
   "outputs": [],
   "source": []
  }
 ],
 "metadata": {
  "kernelspec": {
   "display_name": "Python 3",
   "language": "python",
   "name": "python3"
  },
  "language_info": {
   "codemirror_mode": {
    "name": "ipython",
    "version": 3
   },
   "file_extension": ".py",
   "mimetype": "text/x-python",
   "name": "python",
   "nbconvert_exporter": "python",
   "pygments_lexer": "ipython3",
   "version": "3.7.9"
  }
 },
 "nbformat": 4,
 "nbformat_minor": 4
}
